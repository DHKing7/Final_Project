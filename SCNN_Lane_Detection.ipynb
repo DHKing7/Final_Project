{
  "nbformat": 4,
  "nbformat_minor": 0,
  "metadata": {
    "colab": {
      "provenance": [],
      "authorship_tag": "ABX9TyPQcQEFazBdK6W+YtxCcNIf",
      "include_colab_link": true
    },
    "kernelspec": {
      "name": "python3",
      "display_name": "Python 3"
    },
    "language_info": {
      "name": "python"
    },
    "accelerator": "GPU",
    "gpuClass": "standard"
  },
  "cells": [
    {
      "cell_type": "markdown",
      "metadata": {
        "id": "view-in-github",
        "colab_type": "text"
      },
      "source": [
        "<a href=\"https://colab.research.google.com/github/DHKing7/Final_Project/blob/main/SCNN_Lane_Detection.ipynb\" target=\"_parent\"><img src=\"https://colab.research.google.com/assets/colab-badge.svg\" alt=\"Open In Colab\"/></a>"
      ]
    },
    {
      "cell_type": "code",
      "source": [
        "from google.colab import drive\n",
        "drive.mount('/content/drive')"
      ],
      "metadata": {
        "colab": {
          "base_uri": "https://localhost:8080/"
        },
        "id": "7kWfh-iVnU7C",
        "outputId": "b7c7d162-1b4a-4223-97b5-99b7f3d6e9ec"
      },
      "execution_count": 1,
      "outputs": [
        {
          "output_type": "stream",
          "name": "stdout",
          "text": [
            "Mounted at /content/drive\n"
          ]
        }
      ]
    },
    {
      "cell_type": "code",
      "source": [
        "cd drive/MyDrive/example"
      ],
      "metadata": {
        "colab": {
          "base_uri": "https://localhost:8080/"
        },
        "id": "R47tlP-nt897",
        "outputId": "77f29fdc-2bb3-4982-ea96-91d59985eaa1"
      },
      "execution_count": 2,
      "outputs": [
        {
          "output_type": "stream",
          "name": "stdout",
          "text": [
            "/content/drive/MyDrive/example\n"
          ]
        }
      ]
    },
    {
      "cell_type": "code",
      "source": [
        "ls"
      ],
      "metadata": {
        "colab": {
          "base_uri": "https://localhost:8080/"
        },
        "id": "aqLPeMGkleSt",
        "outputId": "5b696062-faa9-4647-efef-6b609d6a53c5"
      },
      "execution_count": 3,
      "outputs": [
        {
          "output_type": "stream",
          "name": "stdout",
          "text": [
            "\u001b[0m\u001b[01;34mSDLane\u001b[0m/\n"
          ]
        }
      ]
    },
    {
      "cell_type": "markdown",
      "source": [
        "# JSON Key 확인"
      ],
      "metadata": {
        "id": "BG313BeKnaDd"
      }
    },
    {
      "cell_type": "code",
      "source": [
        "import json\n",
        "import os"
      ],
      "metadata": {
        "id": "hMver29joKSc"
      },
      "execution_count": 3,
      "outputs": []
    },
    {
      "cell_type": "code",
      "source": [
        "cd SDLane/train/labels"
      ],
      "metadata": {
        "colab": {
          "base_uri": "https://localhost:8080/"
        },
        "id": "ZoqBDZ0HneGz",
        "outputId": "89a3f8b5-45a3-409e-bba1-012a82d48bd9"
      },
      "execution_count": null,
      "outputs": [
        {
          "output_type": "stream",
          "name": "stdout",
          "text": [
            "/content/drive/MyDrive/SDLane/train/labels\n"
          ]
        }
      ]
    },
    {
      "cell_type": "code",
      "source": [
        "ls"
      ],
      "metadata": {
        "colab": {
          "base_uri": "https://localhost:8080/"
        },
        "id": "kGpoTOBinlLk",
        "outputId": "3b0e4844-524c-4412-e777-efd5e87d044e"
      },
      "execution_count": null,
      "outputs": [
        {
          "output_type": "stream",
          "name": "stdout",
          "text": [
            "\u001b[0m\u001b[01;34m5bbb9c8402a48a0f7eab3af7692743953136faf4\u001b[0m/\n"
          ]
        }
      ]
    },
    {
      "cell_type": "code",
      "source": [
        "cd 5bbb9c8402a48a0f7eab3af7692743953136faf4/"
      ],
      "metadata": {
        "colab": {
          "base_uri": "https://localhost:8080/"
        },
        "id": "iFEzI7cCojWM",
        "outputId": "80a27c37-35b0-4758-b304-3456cebfa5cd"
      },
      "execution_count": null,
      "outputs": [
        {
          "output_type": "stream",
          "name": "stdout",
          "text": [
            "/content/drive/MyDrive/SDLane/train/labels/5bbb9c8402a48a0f7eab3af7692743953136faf4\n"
          ]
        }
      ]
    },
    {
      "cell_type": "code",
      "source": [
        "ls"
      ],
      "metadata": {
        "colab": {
          "base_uri": "https://localhost:8080/"
        },
        "id": "gPOGdPUDom_X",
        "outputId": "238533a6-fc93-4997-adf8-ab20f0f58bc1"
      },
      "execution_count": null,
      "outputs": [
        {
          "output_type": "stream",
          "name": "stdout",
          "text": [
            "0001.json  0246.json  0491.json  0736.json  0981.json  1226.json  1497.json\n",
            "0002.json  0247.json  0492.json  0737.json  0982.json  1227.json  1498.json\n",
            "0003.json  0248.json  0493.json  0738.json  0983.json  1228.json  1499.json\n",
            "0004.json  0249.json  0494.json  0739.json  0984.json  1229.json  1500.json\n",
            "0005.json  0250.json  0495.json  0740.json  0985.json  1230.json  1501.json\n",
            "0006.json  0251.json  0496.json  0741.json  0986.json  1231.json  1502.json\n",
            "0007.json  0252.json  0497.json  0742.json  0987.json  1232.json  1503.json\n",
            "0008.json  0253.json  0498.json  0743.json  0988.json  1233.json  1504.json\n",
            "0009.json  0254.json  0499.json  0744.json  0989.json  1234.json  1505.json\n",
            "0010.json  0255.json  0500.json  0745.json  0990.json  1235.json  1506.json\n",
            "0011.json  0256.json  0501.json  0746.json  0991.json  1236.json  1507.json\n",
            "0012.json  0257.json  0502.json  0747.json  0992.json  1237.json  1508.json\n",
            "0013.json  0258.json  0503.json  0748.json  0993.json  1238.json  1509.json\n",
            "0014.json  0259.json  0504.json  0749.json  0994.json  1239.json  1510.json\n",
            "0015.json  0260.json  0505.json  0750.json  0995.json  1240.json  1511.json\n",
            "0016.json  0261.json  0506.json  0751.json  0996.json  1241.json  1513.json\n",
            "0017.json  0262.json  0507.json  0752.json  0997.json  1242.json  1514.json\n",
            "0018.json  0263.json  0508.json  0753.json  0998.json  1243.json  1515.json\n",
            "0019.json  0264.json  0509.json  0754.json  0999.json  1244.json  1518.json\n",
            "0020.json  0265.json  0510.json  0755.json  1000.json  1245.json  1519.json\n",
            "0021.json  0266.json  0511.json  0756.json  1001.json  1246.json  1520.json\n",
            "0022.json  0267.json  0512.json  0757.json  1002.json  1247.json  1521.json\n",
            "0023.json  0268.json  0513.json  0758.json  1003.json  1248.json  1523.json\n",
            "0024.json  0269.json  0514.json  0759.json  1004.json  1249.json  1524.json\n",
            "0025.json  0270.json  0515.json  0760.json  1005.json  1250.json  1526.json\n",
            "0026.json  0271.json  0516.json  0761.json  1006.json  1251.json  1527.json\n",
            "0027.json  0272.json  0517.json  0762.json  1007.json  1252.json  1530.json\n",
            "0028.json  0273.json  0518.json  0763.json  1008.json  1253.json  1531.json\n",
            "0029.json  0274.json  0519.json  0764.json  1009.json  1254.json  1533.json\n",
            "0030.json  0275.json  0520.json  0765.json  1010.json  1255.json  1534.json\n",
            "0031.json  0276.json  0521.json  0766.json  1011.json  1256.json  1535.json\n",
            "0032.json  0277.json  0522.json  0767.json  1012.json  1257.json  1537.json\n",
            "0033.json  0278.json  0523.json  0768.json  1013.json  1258.json  1538.json\n",
            "0034.json  0279.json  0524.json  0769.json  1014.json  1259.json  1540.json\n",
            "0035.json  0280.json  0525.json  0770.json  1015.json  1260.json  1541.json\n",
            "0036.json  0281.json  0526.json  0771.json  1016.json  1261.json  1543.json\n",
            "0037.json  0282.json  0527.json  0772.json  1017.json  1262.json  1544.json\n",
            "0038.json  0283.json  0528.json  0773.json  1018.json  1263.json  1546.json\n",
            "0039.json  0284.json  0529.json  0774.json  1019.json  1264.json  1547.json\n",
            "0040.json  0285.json  0530.json  0775.json  1020.json  1265.json  1549.json\n",
            "0041.json  0286.json  0531.json  0776.json  1021.json  1266.json  1550.json\n",
            "0042.json  0287.json  0532.json  0777.json  1022.json  1267.json  1552.json\n",
            "0043.json  0288.json  0533.json  0778.json  1023.json  1268.json  1553.json\n",
            "0044.json  0289.json  0534.json  0779.json  1024.json  1269.json  1555.json\n",
            "0045.json  0290.json  0535.json  0780.json  1025.json  1270.json  1556.json\n",
            "0046.json  0291.json  0536.json  0781.json  1026.json  1271.json  1557.json\n",
            "0047.json  0292.json  0537.json  0782.json  1027.json  1272.json  1559.json\n",
            "0048.json  0293.json  0538.json  0783.json  1028.json  1273.json  1560.json\n",
            "0049.json  0294.json  0539.json  0784.json  1029.json  1274.json  1564.json\n",
            "0050.json  0295.json  0540.json  0785.json  1030.json  1275.json  1565.json\n",
            "0051.json  0296.json  0541.json  0786.json  1031.json  1276.json  1566.json\n",
            "0052.json  0297.json  0542.json  0787.json  1032.json  1277.json  1567.json\n",
            "0053.json  0298.json  0543.json  0788.json  1033.json  1278.json  1568.json\n",
            "0054.json  0299.json  0544.json  0789.json  1034.json  1279.json  1569.json\n",
            "0055.json  0300.json  0545.json  0790.json  1035.json  1280.json  1570.json\n",
            "0056.json  0301.json  0546.json  0791.json  1036.json  1281.json  1571.json\n",
            "0057.json  0302.json  0547.json  0792.json  1037.json  1282.json  1572.json\n",
            "0058.json  0303.json  0548.json  0793.json  1038.json  1283.json  1573.json\n",
            "0059.json  0304.json  0549.json  0794.json  1039.json  1284.json  1574.json\n",
            "0060.json  0305.json  0550.json  0795.json  1040.json  1285.json  1575.json\n",
            "0061.json  0306.json  0551.json  0796.json  1041.json  1286.json  1576.json\n",
            "0062.json  0307.json  0552.json  0797.json  1042.json  1287.json  1577.json\n",
            "0063.json  0308.json  0553.json  0798.json  1043.json  1288.json  1578.json\n",
            "0064.json  0309.json  0554.json  0799.json  1044.json  1289.json  1579.json\n",
            "0065.json  0310.json  0555.json  0800.json  1045.json  1290.json  1580.json\n",
            "0066.json  0311.json  0556.json  0801.json  1046.json  1291.json  1581.json\n",
            "0067.json  0312.json  0557.json  0802.json  1047.json  1292.json  1582.json\n",
            "0068.json  0313.json  0558.json  0803.json  1048.json  1293.json  1583.json\n",
            "0069.json  0314.json  0559.json  0804.json  1049.json  1294.json  1584.json\n",
            "0070.json  0315.json  0560.json  0805.json  1050.json  1295.json  1585.json\n",
            "0071.json  0316.json  0561.json  0806.json  1051.json  1296.json  1586.json\n",
            "0072.json  0317.json  0562.json  0807.json  1052.json  1297.json  1587.json\n",
            "0073.json  0318.json  0563.json  0808.json  1053.json  1298.json  1588.json\n",
            "0074.json  0319.json  0564.json  0809.json  1054.json  1299.json  1589.json\n",
            "0075.json  0320.json  0565.json  0810.json  1055.json  1300.json  1590.json\n",
            "0076.json  0321.json  0566.json  0811.json  1056.json  1301.json  1591.json\n",
            "0077.json  0322.json  0567.json  0812.json  1057.json  1302.json  1592.json\n",
            "0078.json  0323.json  0568.json  0813.json  1058.json  1303.json  1593.json\n",
            "0079.json  0324.json  0569.json  0814.json  1059.json  1304.json  1594.json\n",
            "0080.json  0325.json  0570.json  0815.json  1060.json  1305.json  1595.json\n",
            "0081.json  0326.json  0571.json  0816.json  1061.json  1306.json  1596.json\n",
            "0082.json  0327.json  0572.json  0817.json  1062.json  1307.json  1597.json\n",
            "0083.json  0328.json  0573.json  0818.json  1063.json  1308.json  1598.json\n",
            "0084.json  0329.json  0574.json  0819.json  1064.json  1309.json  1599.json\n",
            "0085.json  0330.json  0575.json  0820.json  1065.json  1310.json  1600.json\n",
            "0086.json  0331.json  0576.json  0821.json  1066.json  1311.json  1601.json\n",
            "0087.json  0332.json  0577.json  0822.json  1067.json  1312.json  1602.json\n",
            "0088.json  0333.json  0578.json  0823.json  1068.json  1314.json  1603.json\n",
            "0089.json  0334.json  0579.json  0824.json  1069.json  1316.json  1604.json\n",
            "0090.json  0335.json  0580.json  0825.json  1070.json  1318.json  1605.json\n",
            "0091.json  0336.json  0581.json  0826.json  1071.json  1320.json  1606.json\n",
            "0092.json  0337.json  0582.json  0827.json  1072.json  1322.json  1607.json\n",
            "0093.json  0338.json  0583.json  0828.json  1073.json  1324.json  1608.json\n",
            "0094.json  0339.json  0584.json  0829.json  1074.json  1326.json  1609.json\n",
            "0095.json  0340.json  0585.json  0830.json  1075.json  1328.json  1610.json\n",
            "0096.json  0341.json  0586.json  0831.json  1076.json  1330.json  1611.json\n",
            "0097.json  0342.json  0587.json  0832.json  1077.json  1332.json  1612.json\n",
            "0098.json  0343.json  0588.json  0833.json  1078.json  1334.json  1613.json\n",
            "0099.json  0344.json  0589.json  0834.json  1079.json  1336.json  1614.json\n",
            "0100.json  0345.json  0590.json  0835.json  1080.json  1338.json  1615.json\n",
            "0101.json  0346.json  0591.json  0836.json  1081.json  1340.json  1616.json\n",
            "0102.json  0347.json  0592.json  0837.json  1082.json  1342.json  1617.json\n",
            "0103.json  0348.json  0593.json  0838.json  1083.json  1344.json  1618.json\n",
            "0104.json  0349.json  0594.json  0839.json  1084.json  1345.json  1619.json\n",
            "0105.json  0350.json  0595.json  0840.json  1085.json  1346.json  1620.json\n",
            "0106.json  0351.json  0596.json  0841.json  1086.json  1348.json  1621.json\n",
            "0107.json  0352.json  0597.json  0842.json  1087.json  1349.json  1622.json\n",
            "0108.json  0353.json  0598.json  0843.json  1088.json  1351.json  1623.json\n",
            "0109.json  0354.json  0599.json  0844.json  1089.json  1352.json  1624.json\n",
            "0110.json  0355.json  0600.json  0845.json  1090.json  1354.json  1625.json\n",
            "0111.json  0356.json  0601.json  0846.json  1091.json  1355.json  1626.json\n",
            "0112.json  0357.json  0602.json  0847.json  1092.json  1358.json  1627.json\n",
            "0113.json  0358.json  0603.json  0848.json  1093.json  1359.json  1628.json\n",
            "0114.json  0359.json  0604.json  0849.json  1094.json  1360.json  1629.json\n",
            "0115.json  0360.json  0605.json  0850.json  1095.json  1362.json  1630.json\n",
            "0116.json  0361.json  0606.json  0851.json  1096.json  1363.json  1631.json\n",
            "0117.json  0362.json  0607.json  0852.json  1097.json  1365.json  1632.json\n",
            "0118.json  0363.json  0608.json  0853.json  1098.json  1366.json  1633.json\n",
            "0119.json  0364.json  0609.json  0854.json  1099.json  1369.json  1634.json\n",
            "0120.json  0365.json  0610.json  0855.json  1100.json  1371.json  1635.json\n",
            "0121.json  0366.json  0611.json  0856.json  1101.json  1372.json  1636.json\n",
            "0122.json  0367.json  0612.json  0857.json  1102.json  1373.json  1637.json\n",
            "0123.json  0368.json  0613.json  0858.json  1103.json  1374.json  1638.json\n",
            "0124.json  0369.json  0614.json  0859.json  1104.json  1375.json  1639.json\n",
            "0125.json  0370.json  0615.json  0860.json  1105.json  1376.json  1640.json\n",
            "0126.json  0371.json  0616.json  0861.json  1106.json  1377.json  1641.json\n",
            "0127.json  0372.json  0617.json  0862.json  1107.json  1378.json  1642.json\n",
            "0128.json  0373.json  0618.json  0863.json  1108.json  1379.json  1643.json\n",
            "0129.json  0374.json  0619.json  0864.json  1109.json  1380.json  1644.json\n",
            "0130.json  0375.json  0620.json  0865.json  1110.json  1381.json  1645.json\n",
            "0131.json  0376.json  0621.json  0866.json  1111.json  1382.json  1646.json\n",
            "0132.json  0377.json  0622.json  0867.json  1112.json  1383.json  1647.json\n",
            "0133.json  0378.json  0623.json  0868.json  1113.json  1384.json  1648.json\n",
            "0134.json  0379.json  0624.json  0869.json  1114.json  1385.json  1649.json\n",
            "0135.json  0380.json  0625.json  0870.json  1115.json  1386.json  1650.json\n",
            "0136.json  0381.json  0626.json  0871.json  1116.json  1387.json  1651.json\n",
            "0137.json  0382.json  0627.json  0872.json  1117.json  1388.json  1652.json\n",
            "0138.json  0383.json  0628.json  0873.json  1118.json  1389.json  1653.json\n",
            "0139.json  0384.json  0629.json  0874.json  1119.json  1390.json  1654.json\n",
            "0140.json  0385.json  0630.json  0875.json  1120.json  1391.json  1655.json\n",
            "0141.json  0386.json  0631.json  0876.json  1121.json  1392.json  1656.json\n",
            "0142.json  0387.json  0632.json  0877.json  1122.json  1393.json  1657.json\n",
            "0143.json  0388.json  0633.json  0878.json  1123.json  1394.json  1658.json\n",
            "0144.json  0389.json  0634.json  0879.json  1124.json  1395.json  1659.json\n",
            "0145.json  0390.json  0635.json  0880.json  1125.json  1396.json  1660.json\n",
            "0146.json  0391.json  0636.json  0881.json  1126.json  1397.json  1661.json\n",
            "0147.json  0392.json  0637.json  0882.json  1127.json  1398.json  1662.json\n",
            "0148.json  0393.json  0638.json  0883.json  1128.json  1399.json  1663.json\n",
            "0149.json  0394.json  0639.json  0884.json  1129.json  1400.json  1664.json\n",
            "0150.json  0395.json  0640.json  0885.json  1130.json  1401.json  1665.json\n",
            "0151.json  0396.json  0641.json  0886.json  1131.json  1402.json  1666.json\n",
            "0152.json  0397.json  0642.json  0887.json  1132.json  1403.json  1667.json\n",
            "0153.json  0398.json  0643.json  0888.json  1133.json  1404.json  1668.json\n",
            "0154.json  0399.json  0644.json  0889.json  1134.json  1405.json  1669.json\n",
            "0155.json  0400.json  0645.json  0890.json  1135.json  1406.json  1670.json\n",
            "0156.json  0401.json  0646.json  0891.json  1136.json  1407.json  1671.json\n",
            "0157.json  0402.json  0647.json  0892.json  1137.json  1408.json  1672.json\n",
            "0158.json  0403.json  0648.json  0893.json  1138.json  1409.json  1673.json\n",
            "0159.json  0404.json  0649.json  0894.json  1139.json  1410.json  1674.json\n",
            "0160.json  0405.json  0650.json  0895.json  1140.json  1411.json  1675.json\n",
            "0161.json  0406.json  0651.json  0896.json  1141.json  1412.json  1676.json\n",
            "0162.json  0407.json  0652.json  0897.json  1142.json  1413.json  1677.json\n",
            "0163.json  0408.json  0653.json  0898.json  1143.json  1414.json  1678.json\n",
            "0164.json  0409.json  0654.json  0899.json  1144.json  1415.json  1679.json\n",
            "0165.json  0410.json  0655.json  0900.json  1145.json  1416.json  1680.json\n",
            "0166.json  0411.json  0656.json  0901.json  1146.json  1417.json  1681.json\n",
            "0167.json  0412.json  0657.json  0902.json  1147.json  1418.json  1682.json\n",
            "0168.json  0413.json  0658.json  0903.json  1148.json  1419.json  1683.json\n",
            "0169.json  0414.json  0659.json  0904.json  1149.json  1420.json  1684.json\n",
            "0170.json  0415.json  0660.json  0905.json  1150.json  1421.json  1685.json\n",
            "0171.json  0416.json  0661.json  0906.json  1151.json  1422.json  1686.json\n",
            "0172.json  0417.json  0662.json  0907.json  1152.json  1423.json  1687.json\n",
            "0173.json  0418.json  0663.json  0908.json  1153.json  1424.json  1688.json\n",
            "0174.json  0419.json  0664.json  0909.json  1154.json  1425.json  1689.json\n",
            "0175.json  0420.json  0665.json  0910.json  1155.json  1426.json  1690.json\n",
            "0176.json  0421.json  0666.json  0911.json  1156.json  1427.json  1691.json\n",
            "0177.json  0422.json  0667.json  0912.json  1157.json  1428.json  1692.json\n",
            "0178.json  0423.json  0668.json  0913.json  1158.json  1429.json  1693.json\n",
            "0179.json  0424.json  0669.json  0914.json  1159.json  1430.json  1694.json\n",
            "0180.json  0425.json  0670.json  0915.json  1160.json  1431.json  1695.json\n",
            "0181.json  0426.json  0671.json  0916.json  1161.json  1432.json  1696.json\n",
            "0182.json  0427.json  0672.json  0917.json  1162.json  1433.json  1698.json\n",
            "0183.json  0428.json  0673.json  0918.json  1163.json  1434.json  1699.json\n",
            "0184.json  0429.json  0674.json  0919.json  1164.json  1435.json  1700.json\n",
            "0185.json  0430.json  0675.json  0920.json  1165.json  1436.json  1701.json\n",
            "0186.json  0431.json  0676.json  0921.json  1166.json  1437.json  1702.json\n",
            "0187.json  0432.json  0677.json  0922.json  1167.json  1438.json  1703.json\n",
            "0188.json  0433.json  0678.json  0923.json  1168.json  1439.json  1704.json\n",
            "0189.json  0434.json  0679.json  0924.json  1169.json  1440.json  1705.json\n",
            "0190.json  0435.json  0680.json  0925.json  1170.json  1441.json  1706.json\n",
            "0191.json  0436.json  0681.json  0926.json  1171.json  1442.json  1707.json\n",
            "0192.json  0437.json  0682.json  0927.json  1172.json  1443.json  1708.json\n",
            "0193.json  0438.json  0683.json  0928.json  1173.json  1444.json  1709.json\n",
            "0194.json  0439.json  0684.json  0929.json  1174.json  1445.json  1710.json\n",
            "0195.json  0440.json  0685.json  0930.json  1175.json  1446.json  1711.json\n",
            "0196.json  0441.json  0686.json  0931.json  1176.json  1447.json  1712.json\n",
            "0197.json  0442.json  0687.json  0932.json  1177.json  1448.json  1713.json\n",
            "0198.json  0443.json  0688.json  0933.json  1178.json  1449.json  1714.json\n",
            "0199.json  0444.json  0689.json  0934.json  1179.json  1450.json  1715.json\n",
            "0200.json  0445.json  0690.json  0935.json  1180.json  1451.json  1716.json\n",
            "0201.json  0446.json  0691.json  0936.json  1181.json  1452.json  1717.json\n",
            "0202.json  0447.json  0692.json  0937.json  1182.json  1453.json  1718.json\n",
            "0203.json  0448.json  0693.json  0938.json  1183.json  1454.json  1719.json\n",
            "0204.json  0449.json  0694.json  0939.json  1184.json  1455.json  1720.json\n",
            "0205.json  0450.json  0695.json  0940.json  1185.json  1456.json  1721.json\n",
            "0206.json  0451.json  0696.json  0941.json  1186.json  1457.json  1722.json\n",
            "0207.json  0452.json  0697.json  0942.json  1187.json  1458.json  1724.json\n",
            "0208.json  0453.json  0698.json  0943.json  1188.json  1459.json  1725.json\n",
            "0209.json  0454.json  0699.json  0944.json  1189.json  1460.json  1726.json\n",
            "0210.json  0455.json  0700.json  0945.json  1190.json  1461.json  1728.json\n",
            "0211.json  0456.json  0701.json  0946.json  1191.json  1462.json  1729.json\n",
            "0212.json  0457.json  0702.json  0947.json  1192.json  1463.json  1731.json\n",
            "0213.json  0458.json  0703.json  0948.json  1193.json  1464.json  1732.json\n",
            "0214.json  0459.json  0704.json  0949.json  1194.json  1465.json  1734.json\n",
            "0215.json  0460.json  0705.json  0950.json  1195.json  1466.json  1735.json\n",
            "0216.json  0461.json  0706.json  0951.json  1196.json  1467.json  1736.json\n",
            "0217.json  0462.json  0707.json  0952.json  1197.json  1468.json  1738.json\n",
            "0218.json  0463.json  0708.json  0953.json  1198.json  1469.json  1739.json\n",
            "0219.json  0464.json  0709.json  0954.json  1199.json  1470.json  1740.json\n",
            "0220.json  0465.json  0710.json  0955.json  1200.json  1471.json  1741.json\n",
            "0221.json  0466.json  0711.json  0956.json  1201.json  1472.json  1742.json\n",
            "0222.json  0467.json  0712.json  0957.json  1202.json  1473.json  1743.json\n",
            "0223.json  0468.json  0713.json  0958.json  1203.json  1474.json  1744.json\n",
            "0224.json  0469.json  0714.json  0959.json  1204.json  1475.json  1745.json\n",
            "0225.json  0470.json  0715.json  0960.json  1205.json  1476.json  1746.json\n",
            "0226.json  0471.json  0716.json  0961.json  1206.json  1477.json  1747.json\n",
            "0227.json  0472.json  0717.json  0962.json  1207.json  1478.json  1748.json\n",
            "0228.json  0473.json  0718.json  0963.json  1208.json  1479.json  1749.json\n",
            "0229.json  0474.json  0719.json  0964.json  1209.json  1480.json  1750.json\n",
            "0230.json  0475.json  0720.json  0965.json  1210.json  1481.json  1751.json\n",
            "0231.json  0476.json  0721.json  0966.json  1211.json  1482.json  1752.json\n",
            "0232.json  0477.json  0722.json  0967.json  1212.json  1483.json  1753.json\n",
            "0233.json  0478.json  0723.json  0968.json  1213.json  1484.json  1754.json\n",
            "0234.json  0479.json  0724.json  0969.json  1214.json  1485.json  1755.json\n",
            "0235.json  0480.json  0725.json  0970.json  1215.json  1486.json  1756.json\n",
            "0236.json  0481.json  0726.json  0971.json  1216.json  1487.json  1757.json\n",
            "0237.json  0482.json  0727.json  0972.json  1217.json  1488.json  1758.json\n",
            "0238.json  0483.json  0728.json  0973.json  1218.json  1489.json  1759.json\n",
            "0239.json  0484.json  0729.json  0974.json  1219.json  1490.json  1760.json\n",
            "0240.json  0485.json  0730.json  0975.json  1220.json  1491.json  1761.json\n",
            "0241.json  0486.json  0731.json  0976.json  1221.json  1492.json\n",
            "0242.json  0487.json  0732.json  0977.json  1222.json  1493.json\n",
            "0243.json  0488.json  0733.json  0978.json  1223.json  1494.json\n",
            "0244.json  0489.json  0734.json  0979.json  1224.json  1495.json\n",
            "0245.json  0490.json  0735.json  0980.json  1225.json  1496.json\n"
          ]
        }
      ]
    },
    {
      "cell_type": "code",
      "source": [
        "json_path = \"0001.json\""
      ],
      "metadata": {
        "id": "vGI77E_YoIMd"
      },
      "execution_count": null,
      "outputs": []
    },
    {
      "cell_type": "code",
      "source": [
        "with open(json_path, \"r\") as f: # json_path 수정\n",
        "  annotation = json.load(f)"
      ],
      "metadata": {
        "id": "sJDBp8-GoXuc"
      },
      "execution_count": null,
      "outputs": []
    },
    {
      "cell_type": "code",
      "source": [
        "len(annotation[\"geometry\"])"
      ],
      "metadata": {
        "colab": {
          "base_uri": "https://localhost:8080/"
        },
        "id": "ljyyHcz8odVc",
        "outputId": "f5ce64fd-cdf8-45c6-ed42-f33d634f877b"
      },
      "execution_count": null,
      "outputs": [
        {
          "output_type": "execute_result",
          "data": {
            "text/plain": [
              "4"
            ]
          },
          "metadata": {},
          "execution_count": 17
        }
      ]
    },
    {
      "cell_type": "code",
      "source": [
        "annotation[\"idx\"]"
      ],
      "metadata": {
        "colab": {
          "base_uri": "https://localhost:8080/"
        },
        "id": "Drn672kspDAs",
        "outputId": "fe56a6dc-68ca-4202-b827-aafb599759b8"
      },
      "execution_count": null,
      "outputs": [
        {
          "output_type": "execute_result",
          "data": {
            "text/plain": [
              "[1, 2, 3, 4]"
            ]
          },
          "metadata": {},
          "execution_count": 18
        }
      ]
    },
    {
      "cell_type": "code",
      "execution_count": 4,
      "metadata": {
        "id": "H18AkuxvmV6v"
      },
      "outputs": [],
      "source": [
        "import torch\n",
        "from torch.utils.data import Dataset\n",
        "import numpy as np\n",
        "import cv2"
      ]
    },
    {
      "cell_type": "code",
      "source": [
        "class SDLane(Dataset):\n",
        "  def __init__(self, path, image_set, transforms = None):\n",
        "    super(SDLane, self).__init__()\n",
        "    assert image_set in ('train', 'test'), \"image_set is not valid!\" # 'val'은 없음\n",
        "    self.data_dir_path = path # SDLane/\n",
        "    self.image_set = image_set # train/ or test/\n",
        "    self.tramsforms = transforms\n",
        "    \n",
        "\n",
        "    if not os.path.exists(os.path.join(path, image_set, \"seg_labels\")): # SDLane/train/seg_label\n",
        "      print(\"Label is going to get generated into dir: {} ...\".format(os.path.join(path, \"seg_labels\")))\n",
        "      self.generate_label()\n",
        "    self.createIndex()\n",
        "\n",
        "\n",
        "\n",
        "  def createIndex(self):\n",
        "    self.img_list = [] # img 파일명\n",
        "    self.segLabel_list = [] # [\"Geometry\"] 정보 그그그 json 열고 세그멘테이션 이미지 변환한거\n",
        "    self.exist_list = [] # 차선 존재 유무 42dot dataset은 5개 이상 일 수 있음\n",
        "\n",
        "    listfile = os.path.join(self.data_dir_path, \"train_list.txt\") # txt파일에 images/0932b1d66d21e2ce4de81086645ebd93955fb0c1/0001.jpg 형식으로 39000개 존재\n",
        "    if not os.path.exists(listfile):\n",
        "      raise FileNotFoundError(\"List file doesn't exist. Label has to be generated!\")\n",
        "    \n",
        "    with open(listfile) as f: ### 리스트 파일 열어서 한줄 씩 lable,img 리스트에 추가\n",
        "      for line in f:\n",
        "        line = line.strip()\n",
        "        l = line.split(\"/\") #[\"images\", \"0932b1d66d21e2ce4de81086645ebd93955fb0c1\", \"0001.jpg\"]\n",
        "\n",
        "        json_path = os.path.join(self.data_dir_path, \"train/labels\", l[1], l[2][:-4]+\".json\") # SDLane/train/seg_labels/0932b1d66d21e2ce4de81086645ebd93955fb0c1/0001.json\n",
        "        with open(json_path, \"r\") as f: # json_path 수정\n",
        "          annotation = json.load(f)\n",
        "\n",
        "\n",
        "        self.img_list.append(os.path.join(self.data_dir_path, self.image_set, line)) # SDLane/train/images/0932b1d66d21e2ce4de81086645ebd93955fb0c1/0001.jpg\n",
        "        self.segLabel_list.append(os.path.join(self.data_dir_path, self.image_set,\"seg_labels\", l[1], l[2])) # SDLane/train/seg_labels/0932b1d66d21e2ce4de81086645ebd93955fb0c1/0001.jpg\n",
        "        self.exist_list.append(annotation[\"idx\"]) ### json 파일을 까야함. 차선 존재 유무 SDLane은 차선 수가 변동적임\n",
        "  \n",
        "  def __getitem__(self, idx):\n",
        "    img = cv2.imread(self.img_list[idx])\n",
        "    img = cv2.cvtColor(img, cv2.COLOR_BGR2RGB)\n",
        "\n",
        "    if self.image_set != \"test\":\n",
        "      segLabel = cv2.imread(self.segLabel_list[idx])[:,:,0] # ??\n",
        "      exist = np.array(self.exist_list[idx])\n",
        "    else:\n",
        "      segLabel = None\n",
        "      exist = None\n",
        "\n",
        "\n",
        "    sample = {\"img\": img,\n",
        "              \"segLable\": segLabel,\n",
        "              \"exist\": exist,\n",
        "              \"img_name\": self.img_list[idx]}\n",
        "    \n",
        "    if self.transform is not None:\n",
        "      sample = self.transforms(sample)\n",
        "\n",
        "    return sample\n",
        "\n",
        "  def __len__(self):\n",
        "    return len(self.img_list)\n",
        "\n",
        "  def generate_label(self):\n",
        "    save_dir = os.path.join(self.data_dir_path, self.image_set, \"seg_labels\") #SDLane/train/seg_labels/\n",
        "    os.makedirs(save_dir, exist_ok = True)\n",
        "\n",
        "    self._gen_label_for_json('train', vis = None)\n",
        "\n",
        "\n",
        "  def _gen_label_for_json(self, image_set, vis = None):\n",
        "    H, W = 1208, 1920\n",
        "\n",
        "    save_dir = \"seg_labels\"\n",
        "\n",
        "    listf = os.path.join(self.data_dir_path, \"train_list.txt\")\n",
        "    if not os.path.exists(listf):\n",
        "      raise FileNotFoundError(\"List file doesn't exist. Label has to be generated!\")\n",
        "\n",
        "    with open(listf) as f: ### 리스트 파일 열어서 한줄 씩 lable,img 리스트에 추가\n",
        "      for line in f:\n",
        "        line = line.strip()\n",
        "        l = line.split(\"/\") #[\"images\", \"0932b1d66d21e2ce4de81086645ebd93955fb0c1\", \"0001.jpg\"]\n",
        "\n",
        "        json_path = os.path.join(self.data_dir_path, self.image_set,\"labels\", l[1], l[2][:-4]+\".json\") #SDLane/train/labels/0932b1d66d21e2ce4de81086645ebd93955fb0c1/0001.json\n",
        "        \n",
        "        seg = os.path.join(self.data_dir_path,\"train/seg_labels\",l[1]) #SDLane/train/seg_labels/0932b1d66d21e2ce4de81086645ebd93955fb0c1/\n",
        "        os.makedirs(seg, exist_ok=True)\n",
        "\n",
        "\n",
        "    ### json 파일 불러오기 key = \"geometry\", \"idx\"\n",
        "        with open(json_path, \"r\") as f: # json_path 수정\n",
        "          annotation = json.load(f)\n",
        "\n",
        "        if vis is None:\n",
        "          vis = np.zeros((H,W,3), dtype = np.uint8)\n",
        "          vis = np.ascontiguousarray(vis)\n",
        "\n",
        "\n",
        "        lane_geometry = annotation[\"geometry\"]\n",
        "\n",
        "        pts = [np.int32(lane) for lane in lane_geometry if not len(lane) == 0]\n",
        "        vis = cv2.polylines(vis, pts, False, (0, 255, 0), 10) # vis -> seg_label로 이동시켜야함\n",
        "        seg_path = os.path.join(seg, l[2]) #SDLane/train/seg_labels/0932b1d66d21e2ce4de81086645ebd93955fb0c1/0001.jpg\n",
        "        cv2.imwrite(seg_path, vis) #\n",
        "        vis = None \n"
      ],
      "metadata": {
        "id": "YgazgL9amjNG"
      },
      "execution_count": 15,
      "outputs": []
    },
    {
      "cell_type": "code",
      "source": [
        "dataset = SDLane(\"SDLane\", \"train\", transforms = None)"
      ],
      "metadata": {
        "id": "e1xBrxQCqdc0",
        "colab": {
          "base_uri": "https://localhost:8080/",
          "height": 308
        },
        "outputId": "c77366b8-82a1-4d69-ea03-661f4d943190"
      },
      "execution_count": 16,
      "outputs": [
        {
          "output_type": "stream",
          "name": "stdout",
          "text": [
            "Label is going to get generated into dir: SDLane/seg_labels ...\n"
          ]
        },
        {
          "output_type": "error",
          "ename": "AttributeError",
          "evalue": "ignored",
          "traceback": [
            "\u001b[0;31m---------------------------------------------------------------------------\u001b[0m",
            "\u001b[0;31mAttributeError\u001b[0m                            Traceback (most recent call last)",
            "\u001b[0;32m<ipython-input-16-bfce79713216>\u001b[0m in \u001b[0;36m<module>\u001b[0;34m\u001b[0m\n\u001b[0;32m----> 1\u001b[0;31m \u001b[0mdataset\u001b[0m \u001b[0;34m=\u001b[0m \u001b[0mSDLane\u001b[0m\u001b[0;34m(\u001b[0m\u001b[0;34m\"SDLane\"\u001b[0m\u001b[0;34m,\u001b[0m \u001b[0;34m\"train\"\u001b[0m\u001b[0;34m,\u001b[0m \u001b[0mtransforms\u001b[0m \u001b[0;34m=\u001b[0m \u001b[0;32mNone\u001b[0m\u001b[0;34m)\u001b[0m\u001b[0;34m\u001b[0m\u001b[0;34m\u001b[0m\u001b[0m\n\u001b[0m",
            "\u001b[0;32m<ipython-input-15-2ffe94e14706>\u001b[0m in \u001b[0;36m__init__\u001b[0;34m(self, path, image_set, transforms)\u001b[0m\n\u001b[1;32m     10\u001b[0m     \u001b[0;32mif\u001b[0m \u001b[0;32mnot\u001b[0m \u001b[0mos\u001b[0m\u001b[0;34m.\u001b[0m\u001b[0mpath\u001b[0m\u001b[0;34m.\u001b[0m\u001b[0mexists\u001b[0m\u001b[0;34m(\u001b[0m\u001b[0mos\u001b[0m\u001b[0;34m.\u001b[0m\u001b[0mpath\u001b[0m\u001b[0;34m.\u001b[0m\u001b[0mjoin\u001b[0m\u001b[0;34m(\u001b[0m\u001b[0mpath\u001b[0m\u001b[0;34m,\u001b[0m \u001b[0mimage_set\u001b[0m\u001b[0;34m,\u001b[0m \u001b[0;34m\"seg_labels\"\u001b[0m\u001b[0;34m)\u001b[0m\u001b[0;34m)\u001b[0m\u001b[0;34m:\u001b[0m \u001b[0;31m# SDLane/train/seg_label\u001b[0m\u001b[0;34m\u001b[0m\u001b[0;34m\u001b[0m\u001b[0m\n\u001b[1;32m     11\u001b[0m       \u001b[0mprint\u001b[0m\u001b[0;34m(\u001b[0m\u001b[0;34m\"Label is going to get generated into dir: {} ...\"\u001b[0m\u001b[0;34m.\u001b[0m\u001b[0mformat\u001b[0m\u001b[0;34m(\u001b[0m\u001b[0mos\u001b[0m\u001b[0;34m.\u001b[0m\u001b[0mpath\u001b[0m\u001b[0;34m.\u001b[0m\u001b[0mjoin\u001b[0m\u001b[0;34m(\u001b[0m\u001b[0mpath\u001b[0m\u001b[0;34m,\u001b[0m \u001b[0;34m\"seg_labels\"\u001b[0m\u001b[0;34m)\u001b[0m\u001b[0;34m)\u001b[0m\u001b[0;34m)\u001b[0m\u001b[0;34m\u001b[0m\u001b[0;34m\u001b[0m\u001b[0m\n\u001b[0;32m---> 12\u001b[0;31m       \u001b[0mself\u001b[0m\u001b[0;34m.\u001b[0m\u001b[0mgenerate_label\u001b[0m\u001b[0;34m(\u001b[0m\u001b[0;34m)\u001b[0m\u001b[0;34m\u001b[0m\u001b[0;34m\u001b[0m\u001b[0m\n\u001b[0m\u001b[1;32m     13\u001b[0m     \u001b[0mself\u001b[0m\u001b[0;34m.\u001b[0m\u001b[0mcreateIndex\u001b[0m\u001b[0;34m(\u001b[0m\u001b[0;34m)\u001b[0m\u001b[0;34m\u001b[0m\u001b[0;34m\u001b[0m\u001b[0m\n\u001b[1;32m     14\u001b[0m \u001b[0;34m\u001b[0m\u001b[0m\n",
            "\u001b[0;32m<ipython-input-15-2ffe94e14706>\u001b[0m in \u001b[0;36mgenerate_label\u001b[0;34m(self)\u001b[0m\n\u001b[1;32m     67\u001b[0m     \u001b[0mos\u001b[0m\u001b[0;34m.\u001b[0m\u001b[0mmakedirs\u001b[0m\u001b[0;34m(\u001b[0m\u001b[0msave_dir\u001b[0m\u001b[0;34m,\u001b[0m \u001b[0mexist_ok\u001b[0m \u001b[0;34m=\u001b[0m \u001b[0;32mTrue\u001b[0m\u001b[0;34m)\u001b[0m\u001b[0;34m\u001b[0m\u001b[0;34m\u001b[0m\u001b[0m\n\u001b[1;32m     68\u001b[0m \u001b[0;34m\u001b[0m\u001b[0m\n\u001b[0;32m---> 69\u001b[0;31m     \u001b[0mself\u001b[0m\u001b[0;34m.\u001b[0m\u001b[0m_gen_label_for_json\u001b[0m\u001b[0;34m(\u001b[0m\u001b[0;34m'train'\u001b[0m\u001b[0;34m,\u001b[0m \u001b[0mvis\u001b[0m \u001b[0;34m=\u001b[0m \u001b[0;32mNone\u001b[0m\u001b[0;34m)\u001b[0m\u001b[0;34m\u001b[0m\u001b[0;34m\u001b[0m\u001b[0m\n\u001b[0m\u001b[1;32m     70\u001b[0m \u001b[0;34m\u001b[0m\u001b[0m\n\u001b[1;32m     71\u001b[0m \u001b[0;34m\u001b[0m\u001b[0m\n",
            "\u001b[0;32m<ipython-input-15-2ffe94e14706>\u001b[0m in \u001b[0;36m_gen_label_for_json\u001b[0;34m(self, image_set, vis)\u001b[0m\n\u001b[1;32m    106\u001b[0m         \u001b[0mcv2\u001b[0m\u001b[0;34m.\u001b[0m\u001b[0mimwrite\u001b[0m\u001b[0;34m(\u001b[0m\u001b[0mseg_path\u001b[0m\u001b[0;34m,\u001b[0m \u001b[0mvis\u001b[0m\u001b[0;34m)\u001b[0m \u001b[0;31m#\u001b[0m\u001b[0;34m\u001b[0m\u001b[0;34m\u001b[0m\u001b[0m\n\u001b[1;32m    107\u001b[0m         \u001b[0mvis\u001b[0m \u001b[0;34m=\u001b[0m \u001b[0;32mNone\u001b[0m\u001b[0;34m\u001b[0m\u001b[0;34m\u001b[0m\u001b[0m\n\u001b[0;32m--> 108\u001b[0;31m     \u001b[0mlistf\u001b[0m\u001b[0;34m.\u001b[0m\u001b[0mclose\u001b[0m\u001b[0;34m(\u001b[0m\u001b[0;34m)\u001b[0m\u001b[0;34m\u001b[0m\u001b[0;34m\u001b[0m\u001b[0m\n\u001b[0m",
            "\u001b[0;31mAttributeError\u001b[0m: 'str' object has no attribute 'close'"
          ]
        }
      ]
    },
    {
      "cell_type": "code",
      "source": [
        "dataset.__len__()"
      ],
      "metadata": {
        "colab": {
          "base_uri": "https://localhost:8080/"
        },
        "id": "90ZF3vttStKj",
        "outputId": "c170ff93-3015-4e65-b2d2-12db8df4b932"
      },
      "execution_count": 12,
      "outputs": [
        {
          "output_type": "execute_result",
          "data": {
            "text/plain": [
              "20"
            ]
          },
          "metadata": {},
          "execution_count": 12
        }
      ]
    },
    {
      "cell_type": "code",
      "source": [
        "dataset.__getitem__(1)"
      ],
      "metadata": {
        "colab": {
          "base_uri": "https://localhost:8080/",
          "height": 303
        },
        "id": "ZqSPQx8uSvlP",
        "outputId": "9e597836-52be-41a9-e5ef-d61757d98001"
      },
      "execution_count": 13,
      "outputs": [
        {
          "output_type": "error",
          "ename": "AttributeError",
          "evalue": "ignored",
          "traceback": [
            "\u001b[0;31m---------------------------------------------------------------------------\u001b[0m",
            "\u001b[0;31mAttributeError\u001b[0m                            Traceback (most recent call last)",
            "\u001b[0;32m<ipython-input-13-3b78dd62f68e>\u001b[0m in \u001b[0;36m<module>\u001b[0;34m\u001b[0m\n\u001b[0;32m----> 1\u001b[0;31m \u001b[0mdataset\u001b[0m\u001b[0;34m.\u001b[0m\u001b[0m__getitem__\u001b[0m\u001b[0;34m(\u001b[0m\u001b[0;36m1\u001b[0m\u001b[0;34m)\u001b[0m\u001b[0;34m\u001b[0m\u001b[0;34m\u001b[0m\u001b[0m\n\u001b[0m",
            "\u001b[0;32m<ipython-input-7-01ab16b0f58c>\u001b[0m in \u001b[0;36m__getitem__\u001b[0;34m(self, idx)\u001b[0m\n\u001b[1;32m     43\u001b[0m \u001b[0;34m\u001b[0m\u001b[0m\n\u001b[1;32m     44\u001b[0m     \u001b[0;32mif\u001b[0m \u001b[0mself\u001b[0m\u001b[0;34m.\u001b[0m\u001b[0mimage_set\u001b[0m \u001b[0;34m!=\u001b[0m \u001b[0;34m\"test\"\u001b[0m\u001b[0;34m:\u001b[0m\u001b[0;34m\u001b[0m\u001b[0;34m\u001b[0m\u001b[0m\n\u001b[0;32m---> 45\u001b[0;31m       \u001b[0msegLabel\u001b[0m \u001b[0;34m=\u001b[0m \u001b[0mcv2\u001b[0m\u001b[0;34m.\u001b[0m\u001b[0mimread\u001b[0m\u001b[0;34m(\u001b[0m\u001b[0mself\u001b[0m\u001b[0;34m.\u001b[0m\u001b[0msegLable_list\u001b[0m\u001b[0;34m[\u001b[0m\u001b[0midx\u001b[0m\u001b[0;34m]\u001b[0m\u001b[0;34m)\u001b[0m\u001b[0;34m[\u001b[0m\u001b[0;34m:\u001b[0m\u001b[0;34m,\u001b[0m\u001b[0;34m:\u001b[0m\u001b[0;34m,\u001b[0m\u001b[0;36m0\u001b[0m\u001b[0;34m]\u001b[0m \u001b[0;31m# ??\u001b[0m\u001b[0;34m\u001b[0m\u001b[0;34m\u001b[0m\u001b[0m\n\u001b[0m\u001b[1;32m     46\u001b[0m       \u001b[0mexist\u001b[0m \u001b[0;34m=\u001b[0m \u001b[0mnp\u001b[0m\u001b[0;34m.\u001b[0m\u001b[0marray\u001b[0m\u001b[0;34m(\u001b[0m\u001b[0mself\u001b[0m\u001b[0;34m.\u001b[0m\u001b[0mexist_list\u001b[0m\u001b[0;34m[\u001b[0m\u001b[0midx\u001b[0m\u001b[0;34m]\u001b[0m\u001b[0;34m)\u001b[0m\u001b[0;34m\u001b[0m\u001b[0;34m\u001b[0m\u001b[0m\n\u001b[1;32m     47\u001b[0m     \u001b[0;32melse\u001b[0m\u001b[0;34m:\u001b[0m\u001b[0;34m\u001b[0m\u001b[0;34m\u001b[0m\u001b[0m\n",
            "\u001b[0;31mAttributeError\u001b[0m: 'SDLane' object has no attribute 'segLable_list'"
          ]
        }
      ]
    }
  ]
}
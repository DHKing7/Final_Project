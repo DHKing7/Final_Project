{
  "nbformat": 4,
  "nbformat_minor": 0,
  "metadata": {
    "colab": {
      "provenance": [],
      "authorship_tag": "ABX9TyMjl/mS9zdS3QE/5GJ/EqkX",
      "include_colab_link": true
    },
    "kernelspec": {
      "name": "python3",
      "display_name": "Python 3"
    },
    "language_info": {
      "name": "python"
    }
  },
  "cells": [
    {
      "cell_type": "markdown",
      "metadata": {
        "id": "view-in-github",
        "colab_type": "text"
      },
      "source": [
        "<a href=\"https://colab.research.google.com/github/DHKing7/Final_Project/blob/main/Validation_Set.ipynb\" target=\"_parent\"><img src=\"https://colab.research.google.com/assets/colab-badge.svg\" alt=\"Open In Colab\"/></a>"
      ]
    },
    {
      "cell_type": "code",
      "source": [
        "from google.colab import drive\n",
        "drive.mount('/content/drive')"
      ],
      "metadata": {
        "id": "oeiLTlA7qvNx",
        "colab": {
          "base_uri": "https://localhost:8080/"
        },
        "outputId": "f2b30ec8-a387-4ad9-bd30-a6b0bf5ae1a2"
      },
      "execution_count": 1,
      "outputs": [
        {
          "output_type": "stream",
          "name": "stdout",
          "text": [
            "Mounted at /content/drive\n"
          ]
        }
      ]
    },
    {
      "cell_type": "code",
      "source": [
        "cd drive/MyDrive"
      ],
      "metadata": {
        "colab": {
          "base_uri": "https://localhost:8080/"
        },
        "id": "5bMsqaUocC1z",
        "outputId": "1f81d379-552a-4192-9fb5-fd475fcd4fb2"
      },
      "execution_count": 8,
      "outputs": [
        {
          "output_type": "stream",
          "name": "stdout",
          "text": [
            "/content/drive/MyDrive\n"
          ]
        }
      ]
    },
    {
      "cell_type": "code",
      "source": [
        "ls"
      ],
      "metadata": {
        "colab": {
          "base_uri": "https://localhost:8080/"
        },
        "id": "Q-ueXWYWcF0L",
        "outputId": "16997ce7-c9bc-49a5-a318-cae4719ef37e"
      },
      "execution_count": 9,
      "outputs": [
        {
          "output_type": "stream",
          "name": "stdout",
          "text": [
            "\u001b[0m\u001b[01;34m'Colab Notebooks'\u001b[0m/   \u001b[01;34mexample\u001b[0m/   \u001b[01;34mSDLane\u001b[0m/   sliding_find.py   \u001b[01;34mvideo\u001b[0m/\n"
          ]
        }
      ]
    },
    {
      "cell_type": "code",
      "execution_count": 2,
      "metadata": {
        "id": "FzPBVW_apdPz"
      },
      "outputs": [],
      "source": [
        "import os\n",
        "import numpy as np\n",
        "import shutil"
      ]
    },
    {
      "cell_type": "code",
      "source": [
        "PATH = \"SDLane\""
      ],
      "metadata": {
        "id": "CkRavtOdt9lv"
      },
      "execution_count": 3,
      "outputs": []
    },
    {
      "cell_type": "code",
      "source": [
        "def make_validation():\n",
        "  train_path = \"SDLane/train\" #SDLane/train\n",
        "  val_path = \"SDLane/val\" #SDLane/val\n",
        "  val_txt = []\n",
        "  train_txt = []\n",
        "  num = 0\n",
        "  with open(\"SDLane/train/train_list.txt\") as f:\n",
        "    for line in f:\n",
        "      line = line.strip()\n",
        "      l = line.split(\"/\") #[\"images\", \"0932b1d66d21e2ce4de81086645ebd93955fb0c1\", \"0001.jpg\"]\n",
        "      x1 = l[0]\n",
        "      x2 = l[1]\n",
        "      x3 = l[2]\n",
        "      if num % 5 == 0:\n",
        "        val_txt.append(line)\n",
        "        train_img_path = os.path.join(train_path,x1, x2, x3) #SDLane/train/ images/ 0932b1d66d21e2ce4de81086645ebd93955fb0c1/ 0001.jpg\n",
        "        train_json_path = os.path.join(train_path, \"labels\", x2, x3[:-4]+\".json\") #SDLane/train/labels/0932b1d66d21e2ce4de81086645ebd93955fb0c1/0001.json\n",
        "            \n",
        "        val_img_path = os.path.join(val_path, x1, x2) #SDLane/val/images/0932b1d66d21e2ce4de81086645ebd93955fb0c1\n",
        "        val_json_path = os.path.join(val_path, \"labels\", x2) #SDLane/val/labels/0932b1d66d21e2ce4de81086645ebd93955fb0c1\n",
        "        \n",
        "        shutil.move(train_img_path, val_img_path)\n",
        "        shutil.move(train_json_path, val_json_path)\n",
        "      else:\n",
        "        train_txt.append(line)\n",
        "      num += 1\n",
        "  f.close()\n",
        "  return val_txt, train_txt"
      ],
      "metadata": {
        "id": "ONuVhXA1rZah"
      },
      "execution_count": 35,
      "outputs": []
    },
    {
      "cell_type": "code",
      "source": [
        "def make_txt_list_val(_txt):\n",
        "  with open(\"SDLane/val/val_list.txt\", \"w\") as f:\n",
        "    for line in _txt:\n",
        "      f.write(line+ \"\\n\")\n",
        "  f.close()"
      ],
      "metadata": {
        "id": "443ZgQlXDidu"
      },
      "execution_count": 43,
      "outputs": []
    },
    {
      "cell_type": "code",
      "source": [
        "def make_txt_list_train(_txt):\n",
        "  with open(\"SDLane/val/train_list.txt\", \"w\") as f:\n",
        "    for line in _txt:\n",
        "      f.write(line+\"\\n\")\n",
        "  f.close()"
      ],
      "metadata": {
        "id": "osg69aVbaP50"
      },
      "execution_count": 39,
      "outputs": []
    },
    {
      "cell_type": "code",
      "source": [
        "val_txt, train_txt = make_validation()"
      ],
      "metadata": {
        "id": "yP4RzT3Da4HT"
      },
      "execution_count": 36,
      "outputs": []
    },
    {
      "cell_type": "code",
      "source": [
        "print(val_txt[0])"
      ],
      "metadata": {
        "colab": {
          "base_uri": "https://localhost:8080/"
        },
        "id": "QjSg8hEihxCu",
        "outputId": "42b72d42-a3d0-492a-a17e-32dcc61308ed"
      },
      "execution_count": 42,
      "outputs": [
        {
          "output_type": "stream",
          "name": "stdout",
          "text": [
            "images/0932b1d66d21e2ce4de81086645ebd93955fb0c1/0001.jpg\n"
          ]
        }
      ]
    },
    {
      "cell_type": "code",
      "source": [
        "print(len(train_txt))"
      ],
      "metadata": {
        "colab": {
          "base_uri": "https://localhost:8080/"
        },
        "id": "_C8aaIkchhDV",
        "outputId": "317cab49-2ba9-419c-b060-eda0351e1727"
      },
      "execution_count": 37,
      "outputs": [
        {
          "output_type": "stream",
          "name": "stdout",
          "text": [
            "31276\n"
          ]
        }
      ]
    },
    {
      "cell_type": "code",
      "source": [
        "make_txt_list_val(val_txt)"
      ],
      "metadata": {
        "id": "uRvtSfE8awZz"
      },
      "execution_count": 44,
      "outputs": []
    },
    {
      "cell_type": "code",
      "source": [
        "make_txt_list_train(train_txt)"
      ],
      "metadata": {
        "id": "owCrQN8QbG5M"
      },
      "execution_count": 40,
      "outputs": []
    }
  ]
}